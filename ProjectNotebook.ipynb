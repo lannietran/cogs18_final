{
 "cells": [
  {
   "cell_type": "markdown",
   "metadata": {},
   "source": [
    "# Project Description\n",
    "    \n",
    "\n",
    "This project mostly builds off of A4: Artificial Agents and creates new bots! The first bot is an Obstacle because it stays in the same place the whole time. Then, there are three additional bots that must avoid this obstacle; the Horizontal, Vertical, and Diagonal bots. According to their name, they have restricted movements and can only move in those ways across the grid. The final bot is called a Pedestrian Bot, and can move around the grid with various movements depending on what their last step was. As a pedestrian, it can step through/over obstacles unlike the other bots.\n",
    "    \n",
    "While these new bots all inherit from the Bot Base class in A4, they have unique movements and new methods especially to avoid the obstacle bot. The Obstacle bot particulary is pretty much a brand new class on its own. This code largely depends on classes and their own methods because I thought this was the cleanest (and easiest) way to organize the different bots and their functions especially since they largely rely on their own instances.\n",
    "\n",
    "Finally, I wanted to implement something arcade game-like about this project, so I coded a simple chat bot that asks the user if they are ready to see the bots move around the grid; this chat bot will begin moving the bots around the grid when the user says yes!\n",
    "    \n",
    "Hope you enjoy watching these bots navigate through their own grid world in their unique ways."
   ]
  },
  {
   "cell_type": "code",
   "execution_count": 1,
   "metadata": {},
   "outputs": [],
   "source": [
    "#imports from A4:\n",
    "import random\n",
    "from time import sleep\n",
    "from IPython.display import clear_output"
   ]
  },
  {
   "cell_type": "code",
   "execution_count": 2,
   "metadata": {},
   "outputs": [],
   "source": [
    "from my_module.my_functions import *"
   ]
  },
  {
   "cell_type": "code",
   "execution_count": 3,
   "metadata": {},
   "outputs": [
    {
     "name": "stdout",
     "output_type": "stream",
     "text": [
      "⌖ . ⌖ . . . . .\n",
      ". . ⌖ . . . ⌖ .\n",
      ". . . . . . . .\n",
      ". . . . . . . .\n",
      "⌖ . . . . . . .\n",
      ". . . . . . . .\n",
      ". . . . . . . .\n",
      ". . . . . . . .\n",
      "Thanks for watching!\n"
     ]
    }
   ],
   "source": [
    "#Start talking to the chatbot to see the bots!\n",
    "chat_to_start()"
   ]
  },
  {
   "cell_type": "code",
   "execution_count": 4,
   "metadata": {},
   "outputs": [
    {
     "name": "stdout",
     "output_type": "stream",
     "text": [
      ". . . . . . . .\n",
      "⌖ ⌖ ⌖ . . . . .\n",
      ". . . . . . ⌖ .\n",
      ". . . . . . . .\n",
      ". . . . . . . .\n",
      ". . . . . . . .\n",
      ". ⌖ . . . . . .\n",
      ". . . . . . . .\n"
     ]
    }
   ],
   "source": [
    "#To see the bots and how they were implemented by the chatbot\n",
    "bots = [DiagonalBot(), HorizontalBot(), VerticalBot(), PedestrianBot(), Obstacle()]\n",
    "#Play the board with the list of bots. The bots can interfere with each other, just not the obstacle\n",
    "play_board(bots, n_iter = 25, grid_size = 8, sleep_time = .6)"
   ]
  },
  {
   "cell_type": "markdown",
   "metadata": {},
   "source": [
    "# Testing\n",
    "\n",
    "Running the following test function will run every test I wrote for each bot!"
   ]
  },
  {
   "cell_type": "code",
   "execution_count": 5,
   "metadata": {},
   "outputs": [
    {
     "name": "stdout",
     "output_type": "stream",
     "text": [
      ". . . . . . . .\n",
      ". . . . . . . .\n",
      ". . . . . . . .\n",
      ". . . . . . . .\n",
      ". . . . . . . .\n",
      ". . . . . . . .\n",
      ". . . . . . . .\n",
      ". . ⌖ . . . . .\n"
     ]
    }
   ],
   "source": [
    "from my_module.my_test_functions import *\n",
    "test_all()"
   ]
  },
  {
   "cell_type": "markdown",
   "metadata": {},
   "source": [
    "# Extra Credit\n",
    "I think this project may qualify for extra credit because I went above and beyond when it came to documenting my classes/methods as well as testing. I documented my classes and methods clearly and also included code comments wherever the code could be interpreted as vague. I also tested every single class I wrote. In addition, I wrote tests for code borrowed from A4 as well as tests for most of the functions I wrote as well. I believe these tests do a great job of testing the various aspects of my classes and made an effort to include a test on each method as well.\n",
    "\n",
    "Furthermore, instead of just extending upon the artificial agents in A4, I also extended a little on the chatbots in A3 to implement the project.\n",
    "\n",
    "This was particularly challenging for me as someone pretty much brand new to coding in Python (and coding in general). The closest thing I have to Python coding experience prior to this class is an online course I audited more than a year ago that I did not even complete because loops were introduced and I (to be transparent) was scared off. Documentation was challenging for me because it required me to know the terminology well enough to explain it for others that may view my code. Regardless, I hope you enjoy the bot world I have created here :)"
   ]
  }
 ],
 "metadata": {
  "kernelspec": {
   "display_name": "Python 3",
   "language": "python",
   "name": "python3"
  },
  "language_info": {
   "codemirror_mode": {
    "name": "ipython",
    "version": 3
   },
   "file_extension": ".py",
   "mimetype": "text/x-python",
   "name": "python",
   "nbconvert_exporter": "python",
   "pygments_lexer": "ipython3",
   "version": "3.7.6"
  }
 },
 "nbformat": 4,
 "nbformat_minor": 4
}
